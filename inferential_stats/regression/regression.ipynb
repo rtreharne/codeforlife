{
 "cells": [
  {
   "cell_type": "code",
   "execution_count": 4,
   "metadata": {},
   "outputs": [],
   "source": [
    "import pandas as pd\n",
    "import numpy as np\n",
    "import matplotlib.pyplot as plt"
   ]
  },
  {
   "cell_type": "code",
   "execution_count": 6,
   "metadata": {},
   "outputs": [],
   "source": [
    "df = pd.read_csv(\"pecks_density_data.csv\")"
   ]
  },
  {
   "cell_type": "code",
   "execution_count": 11,
   "metadata": {},
   "outputs": [
    {
     "data": {
      "text/plain": [
       "array(['Unnamed: 0', 'density (birds/m^2)', 'pecks'], dtype=object)"
      ]
     },
     "execution_count": 11,
     "metadata": {},
     "output_type": "execute_result"
    }
   ],
   "source": [
    "df.columns.values"
   ]
  },
  {
   "cell_type": "code",
   "execution_count": 28,
   "metadata": {},
   "outputs": [
    {
     "data": {
      "image/png": "[encoded data removed]",
      "text/plain": [
       "<matplotlib.figure.Figure at 0x7f288ae25ac8>"
      ]
     },
     "metadata": {},
     "output_type": "display_data"
    }
   ],
   "source": [
    "ax = df.plot.scatter(1, 2)\n",
    "plt.show()"
   ]
  },
  {
   "cell_type": "code",
   "execution_count": 84,
   "metadata": {},
   "outputs": [],
   "source": [
    "x = np.array(df['density (birds/m^2)'].tolist())\n",
    "y = np.array(df['pecks'].tolist())\n",
    "\n",
    "x_ax = np.arange(min(x), max(x), 0.1)"
   ]
  },
  {
   "cell_type": "code",
   "execution_count": 44,
   "metadata": {},
   "outputs": [],
   "source": [
    "import numpy.polynomial.polynomial as poly"
   ]
  },
  {
   "cell_type": "code",
   "execution_count": 69,
   "metadata": {},
   "outputs": [],
   "source": [
    "res_lin = poly.polyfit(x, y, 1, full=True)\n",
    "res_quad = poly.polyfit(x, y, 2, full=True)"
   ]
  },
  {
   "cell_type": "code",
   "execution_count": 87,
   "metadata": {},
   "outputs": [],
   "source": [
    "y_lin = res_lin[0][1]*x_ax + res_lin[0][0]\n",
    "y_quad = res_quad[0][2]*x_ax**2 + res_quad[0][1]*x_ax + res_quad[0][0]"
   ]
  },
  {
   "cell_type": "code",
   "execution_count": 89,
   "metadata": {},
   "outputs": [
    {
     "data": {
      "image/png": "[encoded data removed]",
      "text/plain": [
       "<matplotlib.figure.Figure at 0x7f288aded128>"
      ]
     },
     "metadata": {},
     "output_type": "display_data"
    }
   ],
   "source": [
    "ax = df.plot.scatter(1, 2)\n",
    "lin = plt.plot(x_ax, y_lin, '-')\n",
    "quad = plt.plot(x_ax, y_quad, '-')\n",
    "plt.show()"
   ]
  },
  {
   "cell_type": "code",
   "execution_count": 85,
   "metadata": {},
   "outputs": [
    {
     "data": {
      "text/plain": [
       "array([ 4.24,  4.34,  4.44,  4.54,  4.64,  4.74,  4.84,  4.94,  5.04,\n",
       "        5.14,  5.24,  5.34,  5.44,  5.54,  5.64,  5.74,  5.84,  5.94,\n",
       "        6.04,  6.14,  6.24,  6.34,  6.44,  6.54,  6.64,  6.74,  6.84,\n",
       "        6.94,  7.04,  7.14,  7.24,  7.34,  7.44,  7.54,  7.64,  7.74,\n",
       "        7.84,  7.94,  8.04,  8.14,  8.24,  8.34,  8.44,  8.54,  8.64,\n",
       "        8.74,  8.84,  8.94,  9.04,  9.14,  9.24,  9.34,  9.44,  9.54,\n",
       "        9.64,  9.74])"
      ]
     },
     "execution_count": 85,
     "metadata": {},
     "output_type": "execute_result"
    }
   ],
   "source": [
    "x_ax"
   ]
  },
  {
   "cell_type": "code",
   "execution_count": 91,
   "metadata": {},
   "outputs": [],
   "source": [
    "from scipy.optimize import minimize\n",
    "\n",
    "def fun(x, coeff):\n",
    "    return coeff[0] + coeff[1]*x + coeff[2]*x**2"
   ]
  },
  {
   "cell_type": "code",
   "execution_count": 93,
   "metadata": {},
   "outputs": [
    {
     "data": {
      "text/plain": [
       "array([ 17.89047578,  17.36845577,  16.90872854,  16.51129407,\n",
       "        16.17615238,  15.90330346,  15.6927473 ,  15.54448392,\n",
       "        15.45851331,  15.43483547,  15.4734504 ,  15.5743581 ,\n",
       "        15.73755857,  15.96305181,  16.25083782,  16.60091661,\n",
       "        17.01328816,  17.48795248,  18.02490958,  18.62415944,\n",
       "        19.28570208,  20.00953748,  20.79566566,  21.64408661,\n",
       "        22.55480033,  23.52780682,  24.56310608,  25.66069811,\n",
       "        26.82058291,  28.04276048,  29.32723082,  30.67399393,\n",
       "        32.08304982,  33.55439847,  35.0880399 ,  36.68397409,\n",
       "        38.34220106,  40.06272079,  41.8455333 ,  43.69063858,\n",
       "        45.59803663,  47.56772744,  49.59971103,  51.69398739,\n",
       "        53.85055652,  56.06941843,  58.3505731 ,  60.69402054,\n",
       "        63.09976075,  65.56779374,  68.09811949,  70.69073802,\n",
       "        73.34564931,  76.06285338,  78.84235022,  81.68413982])"
      ]
     },
     "execution_count": 93,
     "metadata": {},
     "output_type": "execute_result"
    }
   ],
   "source": [
    "fun(x_ax, res_quad[0])"
   ]
  },
  {
   "cell_type": "code",
   "execution_count": 95,
   "metadata": {},
   "outputs": [
    {
     "data": {
      "text/plain": [
       "      fun: 15.434387750064232\n",
       " hess_inv: array([[ 0.16053228]])\n",
       "      jac: array([  1.90734863e-06])\n",
       "  message: 'Optimization terminated successfully.'\n",
       "     nfev: 12\n",
       "      nit: 3\n",
       "     njev: 4\n",
       "   status: 0\n",
       "  success: True\n",
       "        x: array([ 5.12801071])"
      ]
     },
     "execution_count": 95,
     "metadata": {},
     "output_type": "execute_result"
    }
   ],
   "source": [
    "minimize(fun, [0], args=(res_quad[0]))"
   ]
  },
  {
   "cell_type": "code",
   "execution_count": null,
   "metadata": {},
   "outputs": [],
   "source": []
  }
 ],
 "metadata": {
  "kernelspec": {
   "display_name": "Python 3",
   "language": "python",
   "name": "python3"
  },
  "language_info": {
   "codemirror_mode": {
    "name": "ipython",
    "version": 3
   },
   "file_extension": ".py",
   "mimetype": "text/x-python",
   "name": "python",
   "nbconvert_exporter": "python",
   "pygments_lexer": "ipython3",
   "version": "3.5.2"
  }
 },
 "nbformat": 4,
 "nbformat_minor": 2
}
