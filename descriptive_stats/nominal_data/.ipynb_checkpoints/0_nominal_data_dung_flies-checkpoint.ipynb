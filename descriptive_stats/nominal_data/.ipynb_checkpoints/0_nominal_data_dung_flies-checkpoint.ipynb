{
 "cells": [
  {
   "cell_type": "markdown",
   "metadata": {},
   "source": [
    "# Nominal Data\n",
    "## Dung flies example\n",
    "### Tasks\n",
    " 1. Read data from 'data.csv' file to dataframe  \n",
    " 2. Calculate central tendencies \n",
    " 3. Generate a histogram "
   ]
  },
  {
   "cell_type": "code",
   "execution_count": 28,
   "metadata": {},
   "outputs": [],
   "source": [
    "# import modules that will be needed\n",
    "import pandas as pd\n",
    "import matplotlib.pyplot as plt\n",
    "import numpy as np"
   ]
  },
  {
   "cell_type": "code",
   "execution_count": 32,
   "metadata": {},
   "outputs": [
    {
     "name": "stdout",
     "output_type": "stream",
     "text": [
      "   Length (micron)\n",
      "0               44\n",
      "1               62\n",
      "2              164\n",
      "3               20\n",
      "4              165\n"
     ]
    }
   ],
   "source": [
    "# read in data from csv file\n",
    "# skip first line in file (table caption)\n",
    "df = pd.read_csv(\"data.csv\", skiprows=[0])\n",
    "print(df.head())"
   ]
  },
  {
   "cell_type": "code",
   "execution_count": 48,
   "metadata": {},
   "outputs": [
    {
     "data": {
      "text/plain": [
       "count      30.00\n",
       "mean       99.73\n",
       "std        56.37\n",
       "min        18.00\n",
       "25%        55.75\n",
       "50%       103.50\n",
       "75%       154.75\n",
       "max       191.00\n",
       "var      3177.24\n",
       "med       103.50\n",
       "Name: Length (micron), dtype: float64"
      ]
     },
     "execution_count": 48,
     "metadata": {},
     "output_type": "execute_result"
    }
   ],
   "source": [
    "# find central tendencies of data\n",
    "summary = df['Length (micron)'].describe()\n",
    "\n",
    "# add the variance\n",
    "summary['var'] = summary['std']**2\n",
    "\n",
    "#add the median\n",
    "summary['med'] = df['Length (micron)'].median()\n",
    "\n",
    "summary.round(2)"
   ]
  },
  {
   "cell_type": "code",
   "execution_count": 49,
   "metadata": {},
   "outputs": [],
   "source": [
    "# save central tendencies to file\n",
    "summary.to_csv(\"summary.csv\")"
   ]
  },
  {
   "cell_type": "code",
   "execution_count": 46,
   "metadata": {},
   "outputs": [
    {
     "name": "stdout",
     "output_type": "stream",
     "text": [
      "[   0.   25.   50.   75.  100.  125.  150.  175.  200.]\n"
     ]
    },
    {
     "data": {
      "image/png": "[encoded data removed]",
      "text/plain": [
       "<matplotlib.figure.Figure at 0x7fd7817bc438>"
      ]
     },
     "metadata": {},
     "output_type": "display_data"
    }
   ],
   "source": [
    "# plot a histogram of the data\n",
    "\n",
    "bin_size = 25\n",
    "bins = np.arange(0, summary['max']+bin_size, bin_size)\n",
    "print(bins)\n",
    "ax = df['Length (micron)'].hist(bins=bins, figsize=(9,7))\n",
    "ax.set_title('Dung fly intromittent organ length (microns). (N=30)')\n",
    "ax.set_xlabel('Length (micron)')\n",
    "ax.set_ylabel('Individuals')\n",
    "plt.show()"
   ]
  },
  {
   "cell_type": "code",
   "execution_count": null,
   "metadata": {},
   "outputs": [],
   "source": []
  }
 ],
 "metadata": {
  "kernelspec": {
   "display_name": "Python 3",
   "language": "python",
   "name": "python3"
  },
  "language_info": {
   "codemirror_mode": {
    "name": "ipython",
    "version": 3
   },
   "file_extension": ".py",
   "mimetype": "text/x-python",
   "name": "python",
   "nbconvert_exporter": "python",
   "pygments_lexer": "ipython3",
   "version": "3.5.2"
  }
 },
 "nbformat": 4,
 "nbformat_minor": 2
}
